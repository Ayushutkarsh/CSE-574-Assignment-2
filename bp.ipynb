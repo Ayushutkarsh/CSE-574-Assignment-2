{
 "cells": [
  {
   "cell_type": "code",
   "execution_count": null,
   "metadata": {},
   "outputs": [
    {
     "ename": "",
     "evalue": "",
     "output_type": "error",
     "traceback": [
      "\u001b[1;31mFailed to start the Kernel. \n",
      "\u001b[1;31mPython was not found; run without arguments to install from the Microsoft Store, or disable this shortcut from Settings > Manage App Execution Aliases. \n",
      "\u001b[1;31mView Jupyter <a href='command:jupyter.viewOutput'>log</a> for further details."
     ]
    }
   ],
   "source": [
    "import numpy as np\n"
   ]
  },
  {
   "cell_type": "code",
   "execution_count": 3,
   "metadata": {},
   "outputs": [],
   "source": [
    "class SVM:\n",
    "    def __init__(self, learning_rate = 0.001, lamda = 0.0):\n",
    "        self.w, self.b = None, None\n",
    "        \n",
    "    def train(self, X, Y):\n",
    "        \n",
    "        datapoints, features = shape(X)\n",
    "        self.w = np.random.random(features)\n",
    "        self.b = np.random.random(features)\n",
    "        \n",
    "        _y = np.where(y<= 0,-1,1) # We need to make sure we have the responses as [-1,1]\n",
    "        \n",
    "        for _ in range(self.epochs):"
   ]
  },
  {
   "cell_type": "code",
   "execution_count": 11,
   "metadata": {},
   "outputs": [
    {
     "data": {
      "text/plain": [
       "array([0.29232056, 0.15423352, 0.18711838, 0.16371845, 0.9315245 ,\n",
       "       0.27378188, 0.16958805, 0.26544365, 0.99505171, 0.61053548])"
      ]
     },
     "execution_count": 11,
     "metadata": {},
     "output_type": "execute_result"
    }
   ],
   "source": [
    "\n"
   ]
  },
  {
   "cell_type": "code",
   "execution_count": null,
   "metadata": {},
   "outputs": [],
   "source": []
  }
 ],
 "metadata": {
  "celltoolbar": "Attachments",
  "kernelspec": {
   "display_name": "Python 3",
   "language": "python",
   "name": "python3"
  }
 },
 "nbformat": 4,
 "nbformat_minor": 4
}
