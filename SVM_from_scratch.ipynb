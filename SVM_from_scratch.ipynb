{
 "cells": [
  {
   "cell_type": "code",
   "execution_count": 2,
   "metadata": {},
   "outputs": [],
   "source": [
    "import numpy as np\n",
    "from sklearn import datasets"
   ]
  },
  {
   "cell_type": "code",
   "execution_count": 4,
   "metadata": {},
   "outputs": [],
   "source": [
    "class SVM:\n",
    "    def __init__(self, learning_rate = 0.001, lamda = 0.01, epochs = 100):\n",
    "        self.w, self.b = None, None\n",
    "        self.dw, self.db = 0.0, 0.0\n",
    "        self.learning_rate = learning_rate\n",
    "        self.lamda = lamda\n",
    "        self.epochs = epochs\n",
    "\n",
    "\n",
    "    def gradient_step(self):\n",
    "        self.w -= self.learning_rate * self.dw\n",
    "        self.b -= self.learning_rate * self.db\n",
    "        self.no_grad()\n",
    "\n",
    "\n",
    "    def no_grad(self):\n",
    "        self.dw, self.db = 0.0, 0.0\n",
    "\n",
    "\n",
    "    def train(self, X, Y):\n",
    "        \n",
    "        datapoints, features = np.shape(X)\n",
    "        self.w = np.random.random(features)\n",
    "        self.b = np.random.random()\n",
    "        \n",
    "        Y_ = np.where(Y<= 0,-1,1) # We need to make sure we have the responses as [-1,1]\n",
    "        \n",
    "        for epoch in range(1, self.epochs+1):\n",
    "            loss = 0\n",
    "            for idx, pt in enumerate(X):\n",
    "                cond = 1 - Y_[idx] * (np.dot(pt, self.w) + self.b)\n",
    "                loss += max(0, cond)\n",
    "\n",
    "                if cond > 0:\n",
    "                    self.dw += -1* np.dot(Y_[idx], pt)\n",
    "                    self.db += -1* Y_[idx]\n",
    "\n",
    "                \n",
    "            self.dw /= datapoints\n",
    "            self.db /= datapoints\n",
    "            self.dw += self.lamda * 2 * self.w\n",
    "            self.gradient_step()\n",
    "        \n",
    "            total_loss = loss/datapoints + self.lamda * np.linalg.norm(self.w, ord=2)\n",
    "            if epoch%50==0:\n",
    "                print('Total loss after epoch: {} is loss: {}'.format(epoch, total_loss))\n",
    "            \n",
    "\n",
    "    \n",
    "    def predict(self, X):\n",
    "        output = np.dot(X, self.w) +self.b\n",
    "        return np.sign(output)\n",
    "    \n",
    "    def score(self, X, Y):\n",
    "        y_hat = self.predict(X)\n",
    "        y_correct = np.sum(y_hat == Y)\n",
    "        accuracy = y_correct/np.shape(Y)[-1]\n",
    "        return accuracy \n",
    "\n",
    "    \n",
    "    def visualize(self):\n",
    "        pass\n",
    "    \n",
    "    \n",
    "\n",
    "            "
   ]
  },
  {
   "cell_type": "code",
   "execution_count": 5,
   "metadata": {},
   "outputs": [
    {
     "name": "stdout",
     "output_type": "stream",
     "text": [
      "Total loss after epoch: 50 is loss: 2.3941924475302905\n",
      "Total loss after epoch: 100 is loss: 0.9844338709277903\n",
      "Total loss after epoch: 150 is loss: 0.383058642708403\n",
      "Total loss after epoch: 200 is loss: 0.1907621554131016\n",
      "Total loss after epoch: 250 is loss: 0.12580641459202013\n",
      "Total loss after epoch: 300 is loss: 0.08966660123386208\n",
      "Total loss after epoch: 350 is loss: 0.06784920179681998\n",
      "Total loss after epoch: 400 is loss: 0.0549344601610296\n",
      "Total loss after epoch: 450 is loss: 0.0475917647295704\n",
      "Total loss after epoch: 500 is loss: 0.04339262474054083\n",
      "Total loss after epoch: 550 is loss: 0.04017943141097599\n",
      "Total loss after epoch: 600 is loss: 0.03771140214790411\n",
      "Total loss after epoch: 650 is loss: 0.03557882266434922\n",
      "Total loss after epoch: 700 is loss: 0.0338818335407804\n",
      "Total loss after epoch: 750 is loss: 0.032592740996409866\n",
      "Total loss after epoch: 800 is loss: 0.03152546398459811\n",
      "Total loss after epoch: 850 is loss: 0.030571464782150767\n",
      "Total loss after epoch: 900 is loss: 0.02970152848878585\n",
      "Total loss after epoch: 950 is loss: 0.028832717348776758\n",
      "Total loss after epoch: 1000 is loss: 0.027965030464160018\n"
     ]
    }
   ],
   "source": [
    "from sklearn.model_selection import train_test_split\n",
    "X,Y = datasets.make_blobs(n_samples = 1000, n_features = 8, centers = 2, cluster_std = 1.1, random_state = 0)\n",
    "Y = np.where(Y==0, -1, 1)\n",
    "X_train, X_test, y_train, y_test = train_test_split(X, Y, test_size=0.2, random_state=1)\n",
    "\n",
    "scratch_SVM = SVM(epochs=1000)\n",
    "scratch_SVM.train(X_train,y_train)"
   ]
  },
  {
   "cell_type": "code",
   "execution_count": 6,
   "metadata": {},
   "outputs": [
    {
     "data": {
      "text/plain": [
       "0.995"
      ]
     },
     "execution_count": 6,
     "metadata": {},
     "output_type": "execute_result"
    }
   ],
   "source": [
    "scratch_SVM.score(X_test,y_test)"
   ]
  },
  {
   "cell_type": "code",
   "execution_count": null,
   "metadata": {},
   "outputs": [],
   "source": []
  }
 ],
 "metadata": {
  "kernelspec": {
   "display_name": "Python 3",
   "language": "python",
   "name": "python3"
  },
  "language_info": {
   "codemirror_mode": {
    "name": "ipython",
    "version": 3
   },
   "file_extension": ".py",
   "mimetype": "text/x-python",
   "name": "python",
   "nbconvert_exporter": "python",
   "pygments_lexer": "ipython3",
   "version": "3.8.5"
  },
  "orig_nbformat": 4
 },
 "nbformat": 4,
 "nbformat_minor": 2
}
